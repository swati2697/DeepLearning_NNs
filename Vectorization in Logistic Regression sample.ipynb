{
 "cells": [
  {
   "cell_type": "code",
   "execution_count": 9,
   "id": "b98e436b",
   "metadata": {},
   "outputs": [
    {
     "name": "stdout",
     "output_type": "stream",
     "text": [
      "249650.59316358506\n",
      "Vectorized output time taken:1.3384819030761719ms\n",
      "249650.59316358235\n",
      "Non-Vectorized output time taken:816.1232471466064ms\n"
     ]
    }
   ],
   "source": [
    "import numpy as np\n",
    "import time #to keep track of time for execution\n",
    "a = np.random.rand(1000000)\n",
    "b = np.random.rand(1000000)\n",
    "\n",
    "#vectorised code\n",
    "tic = time.time()#time at which vectorization began\n",
    "c = np.dot(a,b)\n",
    "toc = time.time()#time at which vectorization ended\n",
    "print(c)\n",
    "print(\"Vectorized output time taken:\"+ str(1000*(toc-tic))+ \"ms\")\n",
    "\n",
    "#non-vectorised code\n",
    "c = 0\n",
    "tic = time.time()\n",
    "for i in range(1000000):\n",
    "    c += a[i]*b[i]\n",
    "toc = time.time()\n",
    "print(c)\n",
    "print(\"Non-Vectorized output time taken:\"+ str(1000*(toc-tic))+ \"ms\")\n",
    "    "
   ]
  }
 ],
 "metadata": {
  "kernelspec": {
   "display_name": "Python 3",
   "language": "python",
   "name": "python3"
  },
  "language_info": {
   "codemirror_mode": {
    "name": "ipython",
    "version": 3
   },
   "file_extension": ".py",
   "mimetype": "text/x-python",
   "name": "python",
   "nbconvert_exporter": "python",
   "pygments_lexer": "ipython3",
   "version": "3.6.13"
  }
 },
 "nbformat": 4,
 "nbformat_minor": 5
}
